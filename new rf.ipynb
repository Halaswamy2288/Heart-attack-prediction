{
 "cells": [
  {
   "cell_type": "code",
   "execution_count": null,
   "id": "4d674c23",
   "metadata": {},
   "outputs": [],
   "source": [
    "import numpy as np\n",
    "import pandas as pd\n",
    "import matplotlib.pyplot as plt\n",
    "import seaborn as sns\n",
    "from sklearn.preprocessing import StandardScaler\n",
    "\n",
    "\n",
    "import os\n",
    "print(os.listdir())\n",
    "\n",
    "import warnings\n",
    "warnings.filterwarnings('ignore')"
   ]
  },
  {
   "cell_type": "code",
   "execution_count": null,
   "id": "00af3181",
   "metadata": {},
   "outputs": [],
   "source": [
    "dataset = pd.read_csv(\"heart.csv\")\n",
    "print(dataset)"
   ]
  },
  {
   "cell_type": "code",
   "execution_count": null,
   "id": "c332056c",
   "metadata": {},
   "outputs": [],
   "source": [
    "type(dataset)"
   ]
  },
  {
   "cell_type": "code",
   "execution_count": null,
   "id": "867dd4a4",
   "metadata": {},
   "outputs": [],
   "source": [
    "dataset.shape\n",
    "dataset.head(5)\n"
   ]
  },
  {
   "cell_type": "code",
   "execution_count": null,
   "id": "5caa1be9",
   "metadata": {},
   "outputs": [],
   "source": [
    "dataset.sample(5)"
   ]
  },
  {
   "cell_type": "code",
   "execution_count": null,
   "id": "cd26888f",
   "metadata": {},
   "outputs": [],
   "source": [
    "dataset.info()"
   ]
  },
  {
   "cell_type": "code",
   "execution_count": null,
   "id": "69b2fd93",
   "metadata": {},
   "outputs": [],
   "source": [
    "dataset[\"target\"].describe()\n",
    "dataset[\"target\"].unique()"
   ]
  },
  {
   "cell_type": "code",
   "execution_count": null,
   "id": "cf85fe3a",
   "metadata": {},
   "outputs": [],
   "source": [
    "print(dataset.corr()[\"target\"].abs().sort_values(ascending=False))"
   ]
  },
  {
   "cell_type": "code",
   "execution_count": null,
   "id": "5071973f",
   "metadata": {},
   "outputs": [],
   "source": [
    "#Exploratory Data Analysis (EDA)\n",
    "#First, analysing the target variable\n",
    "y = dataset[\"target\"]\n",
    "\n",
    "sns.countplot(y)\n",
    "\n",
    "\n",
    "target_temp = dataset.target.value_counts()\n",
    "\n",
    "print(target_temp)"
   ]
  },
  {
   "cell_type": "code",
   "execution_count": null,
   "id": "94e24a6d",
   "metadata": {},
   "outputs": [],
   "source": [
    "print(\"Percentage of patience without heart problems: \"+str(round(target_temp[0]*100/303,2)))\n",
    "print(\"Percentage of patience with heart problems: \"+str(round(target_temp[1]*100/303,2)))"
   ]
  },
  {
   "cell_type": "code",
   "execution_count": null,
   "id": "44fa57e9",
   "metadata": {},
   "outputs": [],
   "source": [
    "#Analysing the 'Sex' feature\n",
    "dataset[\"sex\"].unique()\n",
    "sns.barplot(dataset[\"sex\"],y)"
   ]
  },
  {
   "cell_type": "code",
   "execution_count": null,
   "id": "0c58b6d6",
   "metadata": {},
   "outputs": [],
   "source": [
    "#Analysing the 'Chest Pain Type' feature\n",
    "dataset[\"cp\"].unique()\n",
    "sns.barplot(dataset[\"cp\"],y)"
   ]
  },
  {
   "cell_type": "code",
   "execution_count": null,
   "id": "b0538d4c",
   "metadata": {},
   "outputs": [],
   "source": [
    "#Analysing the FBS feature\n",
    "dataset[\"fbs\"].describe()\n",
    "dataset[\"fbs\"].unique()\n",
    "\n",
    "sns.barplot(dataset[\"fbs\"],y)"
   ]
  },
  {
   "cell_type": "code",
   "execution_count": null,
   "id": "187ff715",
   "metadata": {},
   "outputs": [],
   "source": [
    "#Analysing the restecg feature\n",
    "dataset[\"restecg\"].unique()\n",
    "sns.barplot(dataset[\"restecg\"],y)"
   ]
  },
  {
   "cell_type": "code",
   "execution_count": null,
   "id": "872c2069",
   "metadata": {},
   "outputs": [],
   "source": [
    "#Analysing the 'exang' feature\n",
    "dataset[\"exang\"].unique()\n",
    "\n",
    "sns.barplot(dataset[\"exang\"],y)"
   ]
  },
  {
   "cell_type": "code",
   "execution_count": null,
   "id": "772bb19f",
   "metadata": {},
   "outputs": [],
   "source": [
    "#Analysing the Slope feature\n",
    "dataset[\"slope\"].unique()\n",
    "\n",
    "sns.barplot(dataset[\"slope\"],y)"
   ]
  },
  {
   "cell_type": "code",
   "execution_count": null,
   "id": "f5fe423c",
   "metadata": {},
   "outputs": [],
   "source": [
    "#Analysing the 'ca' feature\n",
    "#number of major vessels (0-3) colored by flourosopy\n",
    "dataset[\"ca\"].unique()\n",
    "\n",
    "sns.countplot(dataset[\"ca\"])"
   ]
  },
  {
   "cell_type": "code",
   "execution_count": null,
   "id": "9529f132",
   "metadata": {},
   "outputs": [],
   "source": [
    "sns.barplot(dataset[\"ca\"],y)"
   ]
  },
  {
   "cell_type": "code",
   "execution_count": null,
   "id": "abffe185",
   "metadata": {},
   "outputs": [],
   "source": [
    "# Analysing the 'thal' feature\n",
    "dataset[\"thal\"].unique()\n",
    "\n",
    "sns.barplot(dataset[\"thal\"],y)\n"
   ]
  },
  {
   "cell_type": "code",
   "execution_count": null,
   "id": "afac4a64",
   "metadata": {},
   "outputs": [],
   "source": [
    "sns.distplot(dataset[\"thal\"])"
   ]
  },
  {
   "cell_type": "code",
   "execution_count": null,
   "id": "32066a18",
   "metadata": {},
   "outputs": [],
   "source": [
    "#Train Test split\n",
    "from sklearn.model_selection import train_test_split\n",
    "\n",
    "predictors = dataset.drop(\"target\",axis=1)\n",
    "target = dataset[\"target\"]\n",
    "\n",
    "X_train,X_test,Y_train,Y_test = train_test_split(predictors,target,test_size=0.20,random_state=0)\n"
   ]
  },
  {
   "cell_type": "code",
   "execution_count": null,
   "id": "c7382ca4",
   "metadata": {},
   "outputs": [],
   "source": [
    "#Data Standardization\n",
    "scaler=StandardScaler()         \n",
    "scaler.fit(X_train)\n",
    "x_train=scaler.transform(X_train)\n",
    "x_test=scaler.transform(X_test)\n",
    "print(X_train)"
   ]
  },
  {
   "cell_type": "code",
   "execution_count": null,
   "id": "1176d50c",
   "metadata": {},
   "outputs": [],
   "source": [
    "X_test.shape"
   ]
  },
  {
   "cell_type": "code",
   "execution_count": null,
   "id": "0af06640",
   "metadata": {},
   "outputs": [],
   "source": [
    "Y_train.shape"
   ]
  },
  {
   "cell_type": "code",
   "execution_count": null,
   "id": "1699eb13",
   "metadata": {},
   "outputs": [],
   "source": [
    "Y_test.shape"
   ]
  },
  {
   "cell_type": "code",
   "execution_count": null,
   "id": "d29f32c8",
   "metadata": {},
   "outputs": [],
   "source": [
    "#Model Fitting\n",
    "from sklearn.metrics import accuracy_score"
   ]
  },
  {
   "cell_type": "code",
   "execution_count": null,
   "id": "af34a992",
   "metadata": {},
   "outputs": [],
   "source": [
    "#Logistic Regression\n",
    "from sklearn.linear_model import LogisticRegression\n",
    "\n",
    "lr = LogisticRegression()\n",
    "\n",
    "lr.fit(X_train,Y_train)\n",
    "\n",
    "Y_pred_lr = lr.predict(X_test)\n",
    "Y_pred_lr.shape"
   ]
  },
  {
   "cell_type": "code",
   "execution_count": null,
   "id": "e7a9d8f1",
   "metadata": {},
   "outputs": [],
   "source": [
    "score_lr = round(accuracy_score(Y_pred_lr,Y_test)*100,2)\n",
    "\n",
    "print(\"The accuracy score achieved using Logistic Regression is: \"+str(score_lr)+\" %\")"
   ]
  },
  {
   "cell_type": "code",
   "execution_count": null,
   "id": "e72a26bc",
   "metadata": {},
   "outputs": [],
   "source": [
    "#Naive Bayes\n",
    "from sklearn.naive_bayes import GaussianNB\n",
    "\n",
    "nb = GaussianNB()\n",
    "\n",
    "nb.fit(X_train,Y_train)\n",
    "\n",
    "Y_pred_nb = nb.predict(X_test)\n",
    "Y_pred_nb.shape"
   ]
  },
  {
   "cell_type": "code",
   "execution_count": null,
   "id": "8cb98b0c",
   "metadata": {},
   "outputs": [],
   "source": [
    "score_nb = round(accuracy_score(Y_pred_nb,Y_test)*100,2)\n",
    "\n",
    "print(\"The accuracy score achieved using Naive Bayes is: \"+str(score_nb)+\" %\")"
   ]
  },
  {
   "cell_type": "code",
   "execution_count": null,
   "id": "5d82cdec",
   "metadata": {},
   "outputs": [],
   "source": [
    "#SVM\n",
    "from sklearn import svm\n",
    "\n",
    "sv = svm.SVC(kernel='linear')\n",
    "\n",
    "sv.fit(X_train, Y_train)\n",
    "\n",
    "Y_pred_svm = sv.predict(X_test)\n",
    "Y_pred_svm.shape"
   ]
  },
  {
   "cell_type": "code",
   "execution_count": null,
   "id": "f2013489",
   "metadata": {},
   "outputs": [],
   "source": [
    "score_svm = round(accuracy_score(Y_pred_svm,Y_test)*100,2)\n",
    "\n",
    "print(\"The accuracy score achieved using Linear SVM is: \"+str(score_svm)+\" %\")"
   ]
  },
  {
   "cell_type": "code",
   "execution_count": null,
   "id": "85e5f8ec",
   "metadata": {},
   "outputs": [],
   "source": [
    "#K Nearest Neighbors\n",
    "from sklearn.neighbors import KNeighborsClassifier\n",
    "\n",
    "knn = KNeighborsClassifier(n_neighbors=7)\n",
    "knn.fit(X_train,Y_train)\n",
    "Y_pred_knn=knn.predict(X_test)\n",
    "Y_pred_knn.shape"
   ]
  },
  {
   "cell_type": "code",
   "execution_count": null,
   "id": "855629c4",
   "metadata": {},
   "outputs": [],
   "source": [
    "score_knn = round(accuracy_score(Y_pred_knn,Y_test)*100,2)\n",
    "\n",
    "print(\"The accuracy score achieved using KNN is: \"+str(score_knn)+\" %\")"
   ]
  },
  {
   "cell_type": "code",
   "execution_count": null,
   "id": "1393eefc",
   "metadata": {},
   "outputs": [],
   "source": [
    "#Decision Tree\n",
    "from sklearn.tree import DecisionTreeClassifier\n",
    "\n",
    "max_accuracy = 0\n",
    "\n",
    "\n",
    "for x in range(200):\n",
    "    dt = DecisionTreeClassifier(random_state=x)\n",
    "    dt.fit(X_train,Y_train)\n",
    "    Y_pred_dt = dt.predict(X_test)\n",
    "    current_accuracy = round(accuracy_score(Y_pred_dt,Y_test)*100,2)\n",
    "    if(current_accuracy>max_accuracy):\n",
    "        max_accuracy = current_accuracy\n",
    "        best_x = x\n",
    "        \n",
    "#print(max_accuracy)\n",
    "#print(best_x)\n",
    "\n",
    "\n",
    "dt = DecisionTreeClassifier(random_state=best_x)\n",
    "dt.fit(X_train,Y_train)\n",
    "Y_pred_dt = dt.predict(X_test)\n",
    "print(Y_pred_dt.shape)"
   ]
  },
  {
   "cell_type": "code",
   "execution_count": null,
   "id": "8b6754aa",
   "metadata": {},
   "outputs": [],
   "source": [
    "score_dt = round(accuracy_score(Y_pred_dt,Y_test)*100,2)\n",
    "\n",
    "print(\"The accuracy score achieved using Decision Tree is: \"+str(score_dt)+\" %\")"
   ]
  },
  {
   "cell_type": "code",
   "execution_count": null,
   "id": "d9b9f410",
   "metadata": {},
   "outputs": [],
   "source": [
    "#Random Forest\n",
    "from sklearn.ensemble import RandomForestClassifier\n",
    "\n",
    "max_accuracy = 0\n",
    "\n",
    "\n",
    "for x in range(2000):\n",
    "    rf = RandomForestClassifier(random_state=x)\n",
    "    rf.fit(X_train,Y_train)\n",
    "    Y_pred_rf = rf.predict(X_test)\n",
    "    current_accuracy = round(accuracy_score(Y_pred_rf,Y_test)*100,2)\n",
    "    if(current_accuracy>max_accuracy):\n",
    "        max_accuracy = current_accuracy\n",
    "        best_x = x\n",
    "        \n",
    "#print(max_accuracy)\n",
    "#print(best_x)\n",
    "\n",
    "rf = RandomForestClassifier(random_state=best_x)\n",
    "rf.fit(X_train,Y_train)\n",
    "Y_pred_rf = rf.predict(X_test)\n",
    "Y_pred_rf.shape"
   ]
  },
  {
   "cell_type": "code",
   "execution_count": null,
   "id": "ed6cf184",
   "metadata": {},
   "outputs": [],
   "source": [
    "age=int(input(\"Enter the age of the patient:\"))\n",
    "sex=int(input(\"Enter the sex:Male-1,Female-0:\"))\n",
    "cp=int(input(\"Enter the value of cp:\"))\n",
    "trestbps=int(input(\"Enter the value of trestbps:\"))\n",
    "chol=int(input(\"Enter the value of chol:\"))\n",
    "fbs=int(input(\"Enter the value of fbs:\"))\n",
    "restecg=int(input(\"Enter the value of restecg:\"))\n",
    "thalach=int(input(\"Enter the value of thalach:\"))\n",
    "exang=int(input(\"Enter the value of exang:\"))\n",
    "oldpeak=float(input(\"Enter the value of oldpeak:\"))\n",
    "slope=int(input(\"Enter the value of slope:\"))\n",
    "ca=int(input(\"Enter the value of ca:\"))\n",
    "thal=int(input(\"Enter the value of thal:\"))\n",
    "\n",
    "y=rf.predict([[age,sex,cp,trestbps,chol,fbs,restecg,thalach,exang,oldpeak,slope,ca,thal]])\n",
    "print(y)"
   ]
  },
  {
   "cell_type": "code",
   "execution_count": null,
   "id": "aae20924",
   "metadata": {},
   "outputs": [],
   "source": [
    "score_rf = round(accuracy_score(Y_pred_rf,Y_test)*100,2)\n",
    "\n",
    "print(\"The accuracy score achieved using Decision Tree is: \"+str(score_rf)+\" %\")"
   ]
  },
  {
   "cell_type": "code",
   "execution_count": null,
   "id": "af881631",
   "metadata": {},
   "outputs": [],
   "source": [
    "#XGBoost\n",
    "import xgboost as xgb\n",
    "\n",
    "xgb_model = xgb.XGBClassifier(objective=\"binary:logistic\", random_state=42)\n",
    "xgb_model.fit(X_train, Y_train)\n",
    "\n",
    "Y_pred_xgb = xgb_model.predict(X_test)\n",
    "Y_pred_xgb.shape"
   ]
  },
  {
   "cell_type": "code",
   "execution_count": null,
   "id": "3893b812",
   "metadata": {},
   "outputs": [],
   "source": [
    "score_xgb = round(accuracy_score(Y_pred_xgb,Y_test)*100,2)\n",
    "\n",
    "print(\"The accuracy score achieved using XGBoost is: \"+str(score_xgb)+\" %\")"
   ]
  },
  {
   "cell_type": "code",
   "execution_count": null,
   "id": "b39e2cab",
   "metadata": {},
   "outputs": [],
   "source": [
    "#Output final score\n",
    "scores = [score_lr,score_nb,score_svm,score_knn,score_dt,score_rf,score_xgb]\n",
    "algorithms = [\"Logistic Regression\",\"Naive Bayes\",\"Support Vector Machine\",\"K-Nearest Neighbors\",\"Decision Tree\",\"Random Forest\",\"XGBoost\"]    \n",
    "\n",
    "for i in range(len(algorithms)):\n",
    "    print(\"The accuracy score achieved using \"+algorithms[i]+\" is: \"+str(scores[i])+\" %\")"
   ]
  },
  {
   "cell_type": "code",
   "execution_count": null,
   "id": "43903655",
   "metadata": {},
   "outputs": [],
   "source": [
    "sns.set(rc={'figure.figsize':(15,8)})\n",
    "plt.xlabel(\"Algorithms\")\n",
    "plt.ylabel(\"Accuracy score\")\n",
    "\n",
    "sns.barplot(algorithms,scores)"
   ]
  },
  {
   "cell_type": "code",
   "execution_count": null,
   "id": "49c2817e",
   "metadata": {},
   "outputs": [],
   "source": [
    "'''#Support Vector Machine Model(SVM)\n",
    "model=svm.SVC(kernel='linear')   \n",
    "\n",
    "#Training the svm model with training data\n",
    "model.fit(X_train,Y_train)\n",
    "\n",
    "#Accuracy Score\n",
    "#Accuracy Score of training data\n",
    "X_train_rf=model.predict(X_train)\n",
    "training_data_accuracy=accuracy_score(Y_train,X_train_rf)\n",
    "\n",
    "#print(\"Accuracy score of training data: \",training_data_accuracy)\n",
    "#Accuracy Score of testing data\n",
    "X_test_prediction=model.predict(X_test)\n",
    "test_data_accuracy=accuracy_score(Y_test,X_test_prediction)\n",
    "#print(\"Accuracy score of test data: \",test_data_accuracy)\n",
    "\n",
    "input_data=(57,1,0,140,192,0,1,148,0,0.4,1,0,1)\n",
    "#changing input data to a numpy array\n",
    "input_data_as_numpy_array= np.asarray(input_data)\n",
    "\n",
    "#reshape the numpy array\n",
    "input_data_reshaped= input_data_as_numpy_array.reshape(1,-1)\n",
    "\n",
    "#standarize the data\n",
    "std_data= scaler.transform(input_data_reshaped)\n",
    "\n",
    "prediction= model.predict(std_data)\n",
    "print(prediction)\n",
    "\n",
    "if(prediction[0]==0):\n",
    "    print(\"Person is  not having heart attack\")\n",
    "else:\n",
    "    print(\"Person is having heart attack\")'''"
   ]
  },
  {
   "cell_type": "code",
   "execution_count": null,
   "id": "b2fb7a06",
   "metadata": {},
   "outputs": [],
   "source": []
  }
 ],
 "metadata": {
  "kernelspec": {
   "display_name": "Python 3 (ipykernel)",
   "language": "python",
   "name": "python3"
  },
  "language_info": {
   "codemirror_mode": {
    "name": "ipython",
    "version": 3
   },
   "file_extension": ".py",
   "mimetype": "text/x-python",
   "name": "python",
   "nbconvert_exporter": "python",
   "pygments_lexer": "ipython3",
   "version": "3.9.6"
  }
 },
 "nbformat": 4,
 "nbformat_minor": 5
}
